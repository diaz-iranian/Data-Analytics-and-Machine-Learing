{
  "nbformat": 4,
  "nbformat_minor": 0,
  "metadata": {
    "colab": {
      "name": "Data Analytics LOKET",
      "provenance": [],
      "collapsed_sections": []
    },
    "kernelspec": {
      "name": "python3",
      "display_name": "Python 3"
    }
  },
  "cells": [
    {
      "cell_type": "code",
      "metadata": {
        "id": "CMX-QIW4ieFQ",
        "outputId": "af0b53dd-489f-4bb8-9956-88203182a9aa",
        "colab": {
          "base_uri": "https://localhost:8080/",
          "height": 71
        }
      },
      "source": [
        "import pandas as pd\n",
        "import numpy as np\n",
        "import matplotlib.pyplot as plt\n",
        "import seaborn as sns\n",
        "%matplotlib inline"
      ],
      "execution_count": null,
      "outputs": [
        {
          "output_type": "stream",
          "text": [
            "/usr/local/lib/python3.6/dist-packages/statsmodels/tools/_testing.py:19: FutureWarning: pandas.util.testing is deprecated. Use the functions in the public API at pandas.testing instead.\n",
            "  import pandas.util.testing as tm\n"
          ],
          "name": "stderr"
        }
      ]
    },
    {
      "cell_type": "code",
      "metadata": {
        "id": "eDGCL2n8jIwY"
      },
      "source": [
        "# display maximum colum and rows\n",
        "pd.options.display.max_columns = 999\n",
        "pd.options.display.max_rows = 999"
      ],
      "execution_count": null,
      "outputs": []
    },
    {
      "cell_type": "code",
      "metadata": {
        "id": "VDF-pSl8jrTG",
        "outputId": "505ddd1c-3e24-4d15-e52e-27831be6d20b",
        "colab": {
          "base_uri": "https://localhost:8080/",
          "height": 204
        }
      },
      "source": [
        "df = pd.read_excel(\"hands_on.xlsx\", sheet_name='Sheet1')\n",
        "df.head()"
      ],
      "execution_count": null,
      "outputs": [
        {
          "output_type": "execute_result",
          "data": {
            "text/html": [
              "<div>\n",
              "<style scoped>\n",
              "    .dataframe tbody tr th:only-of-type {\n",
              "        vertical-align: middle;\n",
              "    }\n",
              "\n",
              "    .dataframe tbody tr th {\n",
              "        vertical-align: top;\n",
              "    }\n",
              "\n",
              "    .dataframe thead th {\n",
              "        text-align: right;\n",
              "    }\n",
              "</style>\n",
              "<table border=\"1\" class=\"dataframe\">\n",
              "  <thead>\n",
              "    <tr style=\"text-align: right;\">\n",
              "      <th></th>\n",
              "      <th>id_event</th>\n",
              "      <th>invoice_date</th>\n",
              "      <th>Sold</th>\n",
              "      <th>Transaction</th>\n",
              "      <th>event_start_date</th>\n",
              "      <th>event_end_date</th>\n",
              "      <th>status_event</th>\n",
              "      <th>Ratio</th>\n",
              "    </tr>\n",
              "  </thead>\n",
              "  <tbody>\n",
              "    <tr>\n",
              "      <th>0</th>\n",
              "      <td>5016</td>\n",
              "      <td>2018-09-10</td>\n",
              "      <td>2555</td>\n",
              "      <td>2555.0</td>\n",
              "      <td>2018-12-09</td>\n",
              "      <td>2018-12-09</td>\n",
              "      <td>Past Event</td>\n",
              "      <td>0.174224</td>\n",
              "    </tr>\n",
              "    <tr>\n",
              "      <th>1</th>\n",
              "      <td>5016</td>\n",
              "      <td>2018-09-11</td>\n",
              "      <td>2308</td>\n",
              "      <td>2308.0</td>\n",
              "      <td>2018-12-09</td>\n",
              "      <td>2018-12-09</td>\n",
              "      <td>Past Event</td>\n",
              "      <td>0.157382</td>\n",
              "    </tr>\n",
              "    <tr>\n",
              "      <th>2</th>\n",
              "      <td>5016</td>\n",
              "      <td>2018-09-12</td>\n",
              "      <td>1328</td>\n",
              "      <td>780.0</td>\n",
              "      <td>2018-12-09</td>\n",
              "      <td>2018-12-09</td>\n",
              "      <td>Past Event</td>\n",
              "      <td>0.090556</td>\n",
              "    </tr>\n",
              "    <tr>\n",
              "      <th>3</th>\n",
              "      <td>5016</td>\n",
              "      <td>2018-09-13</td>\n",
              "      <td>1290</td>\n",
              "      <td>306.0</td>\n",
              "      <td>2018-12-09</td>\n",
              "      <td>2018-12-09</td>\n",
              "      <td>Past Event</td>\n",
              "      <td>0.087965</td>\n",
              "    </tr>\n",
              "    <tr>\n",
              "      <th>4</th>\n",
              "      <td>5016</td>\n",
              "      <td>2018-09-14</td>\n",
              "      <td>1176</td>\n",
              "      <td>204.0</td>\n",
              "      <td>2018-12-09</td>\n",
              "      <td>2018-12-09</td>\n",
              "      <td>Past Event</td>\n",
              "      <td>0.080191</td>\n",
              "    </tr>\n",
              "  </tbody>\n",
              "</table>\n",
              "</div>"
            ],
            "text/plain": [
              "   id_event invoice_date  Sold  Transaction event_start_date event_end_date  \\\n",
              "0      5016   2018-09-10  2555       2555.0       2018-12-09     2018-12-09   \n",
              "1      5016   2018-09-11  2308       2308.0       2018-12-09     2018-12-09   \n",
              "2      5016   2018-09-12  1328        780.0       2018-12-09     2018-12-09   \n",
              "3      5016   2018-09-13  1290        306.0       2018-12-09     2018-12-09   \n",
              "4      5016   2018-09-14  1176        204.0       2018-12-09     2018-12-09   \n",
              "\n",
              "  status_event     Ratio  \n",
              "0   Past Event  0.174224  \n",
              "1   Past Event  0.157382  \n",
              "2   Past Event  0.090556  \n",
              "3   Past Event  0.087965  \n",
              "4   Past Event  0.080191  "
            ]
          },
          "metadata": {
            "tags": []
          },
          "execution_count": 4
        }
      ]
    },
    {
      "cell_type": "code",
      "metadata": {
        "id": "_VB6naEIj-6F",
        "outputId": "04c2367a-f835-41de-e690-f9405f8557bd",
        "colab": {
          "base_uri": "https://localhost:8080/",
          "height": 272
        }
      },
      "source": [
        "# check the data type\n",
        "df.info()"
      ],
      "execution_count": null,
      "outputs": [
        {
          "output_type": "stream",
          "text": [
            "<class 'pandas.core.frame.DataFrame'>\n",
            "RangeIndex: 210 entries, 0 to 209\n",
            "Data columns (total 8 columns):\n",
            " #   Column            Non-Null Count  Dtype         \n",
            "---  ------            --------------  -----         \n",
            " 0   id_event          210 non-null    int64         \n",
            " 1   invoice_date      210 non-null    datetime64[ns]\n",
            " 2   Sold              210 non-null    int64         \n",
            " 3   Transaction       210 non-null    float64       \n",
            " 4   event_start_date  210 non-null    datetime64[ns]\n",
            " 5   event_end_date    210 non-null    datetime64[ns]\n",
            " 6   status_event      210 non-null    object        \n",
            " 7   Ratio             210 non-null    float64       \n",
            "dtypes: datetime64[ns](3), float64(2), int64(2), object(1)\n",
            "memory usage: 13.2+ KB\n"
          ],
          "name": "stdout"
        }
      ]
    },
    {
      "cell_type": "code",
      "metadata": {
        "id": "ketOWA4dkJjN",
        "outputId": "0a540589-c677-42b9-bdc0-4c1b2269d832",
        "colab": {
          "base_uri": "https://localhost:8080/",
          "height": 297
        }
      },
      "source": [
        "df.describe()"
      ],
      "execution_count": null,
      "outputs": [
        {
          "output_type": "execute_result",
          "data": {
            "text/html": [
              "<div>\n",
              "<style scoped>\n",
              "    .dataframe tbody tr th:only-of-type {\n",
              "        vertical-align: middle;\n",
              "    }\n",
              "\n",
              "    .dataframe tbody tr th {\n",
              "        vertical-align: top;\n",
              "    }\n",
              "\n",
              "    .dataframe thead th {\n",
              "        text-align: right;\n",
              "    }\n",
              "</style>\n",
              "<table border=\"1\" class=\"dataframe\">\n",
              "  <thead>\n",
              "    <tr style=\"text-align: right;\">\n",
              "      <th></th>\n",
              "      <th>id_event</th>\n",
              "      <th>Sold</th>\n",
              "      <th>Transaction</th>\n",
              "      <th>Ratio</th>\n",
              "    </tr>\n",
              "  </thead>\n",
              "  <tbody>\n",
              "    <tr>\n",
              "      <th>count</th>\n",
              "      <td>210.000000</td>\n",
              "      <td>210.000000</td>\n",
              "      <td>210.000000</td>\n",
              "      <td>210.000000</td>\n",
              "    </tr>\n",
              "    <tr>\n",
              "      <th>mean</th>\n",
              "      <td>10005.000000</td>\n",
              "      <td>184.323810</td>\n",
              "      <td>91.774603</td>\n",
              "      <td>0.012371</td>\n",
              "    </tr>\n",
              "    <tr>\n",
              "      <th>std</th>\n",
              "      <td>5487.609567</td>\n",
              "      <td>605.908326</td>\n",
              "      <td>345.019624</td>\n",
              "      <td>0.029486</td>\n",
              "    </tr>\n",
              "    <tr>\n",
              "      <th>min</th>\n",
              "      <td>5016.000000</td>\n",
              "      <td>0.000000</td>\n",
              "      <td>0.000000</td>\n",
              "      <td>0.000000</td>\n",
              "    </tr>\n",
              "    <tr>\n",
              "      <th>25%</th>\n",
              "      <td>5016.000000</td>\n",
              "      <td>19.000000</td>\n",
              "      <td>9.000000</td>\n",
              "      <td>0.001640</td>\n",
              "    </tr>\n",
              "    <tr>\n",
              "      <th>50%</th>\n",
              "      <td>11179.000000</td>\n",
              "      <td>65.500000</td>\n",
              "      <td>28.500000</td>\n",
              "      <td>0.004569</td>\n",
              "    </tr>\n",
              "    <tr>\n",
              "      <th>75%</th>\n",
              "      <td>11179.000000</td>\n",
              "      <td>119.500000</td>\n",
              "      <td>46.750000</td>\n",
              "      <td>0.009758</td>\n",
              "    </tr>\n",
              "    <tr>\n",
              "      <th>max</th>\n",
              "      <td>21450.000000</td>\n",
              "      <td>7584.000000</td>\n",
              "      <td>3467.000000</td>\n",
              "      <td>0.303360</td>\n",
              "    </tr>\n",
              "  </tbody>\n",
              "</table>\n",
              "</div>"
            ],
            "text/plain": [
              "           id_event         Sold  Transaction       Ratio\n",
              "count    210.000000   210.000000   210.000000  210.000000\n",
              "mean   10005.000000   184.323810    91.774603    0.012371\n",
              "std     5487.609567   605.908326   345.019624    0.029486\n",
              "min     5016.000000     0.000000     0.000000    0.000000\n",
              "25%     5016.000000    19.000000     9.000000    0.001640\n",
              "50%    11179.000000    65.500000    28.500000    0.004569\n",
              "75%    11179.000000   119.500000    46.750000    0.009758\n",
              "max    21450.000000  7584.000000  3467.000000    0.303360"
            ]
          },
          "metadata": {
            "tags": []
          },
          "execution_count": 6
        }
      ]
    },
    {
      "cell_type": "code",
      "metadata": {
        "id": "WlaG5ptMkODd",
        "outputId": "e8de8852-b300-4f7b-a1b3-a37cd6eff62e",
        "colab": {
          "base_uri": "https://localhost:8080/",
          "height": 34
        }
      },
      "source": [
        "df.shape"
      ],
      "execution_count": null,
      "outputs": [
        {
          "output_type": "execute_result",
          "data": {
            "text/plain": [
              "(210, 8)"
            ]
          },
          "metadata": {
            "tags": []
          },
          "execution_count": 7
        }
      ]
    },
    {
      "cell_type": "code",
      "metadata": {
        "id": "9q1hcnqxk4yq",
        "outputId": "a2ca96df-1676-421f-b3c7-b6d7ea1474b1",
        "colab": {
          "base_uri": "https://localhost:8080/",
          "height": 85
        }
      },
      "source": [
        "# check kategorikal type\n",
        "df.groupby('status_event')['id_event'].unique()"
      ],
      "execution_count": null,
      "outputs": [
        {
          "output_type": "execute_result",
          "data": {
            "text/plain": [
              "status_event\n",
              "Active Event          [21450]\n",
              "Past Event      [5016, 11179]\n",
              "Name: id_event, dtype: object"
            ]
          },
          "metadata": {
            "tags": []
          },
          "execution_count": 9
        }
      ]
    },
    {
      "cell_type": "code",
      "metadata": {
        "id": "mxrfb4kqkTFK"
      },
      "source": [
        "# Extract event needed\n",
        "event_A = df[df.id_event == 5016].reset_index()\n",
        "event_B = df[df.id_event == 11179].reset_index()\n",
        "event_C = df[df.id_event == 21450].reset_index()"
      ],
      "execution_count": null,
      "outputs": []
    },
    {
      "cell_type": "code",
      "metadata": {
        "id": "9XHVk28IlF0K",
        "outputId": "2360bdd9-c16a-43ee-e361-dc233c398764",
        "colab": {
          "base_uri": "https://localhost:8080/",
          "height": 312
        }
      },
      "source": [
        "event_A.Ratio.plot.line(title='Event A sales Ratio')\n",
        "plt.xlabel('Day')\n",
        "plt.ylabel('Ratio')"
      ],
      "execution_count": null,
      "outputs": [
        {
          "output_type": "execute_result",
          "data": {
            "text/plain": [
              "Text(0, 0.5, 'Ratio')"
            ]
          },
          "metadata": {
            "tags": []
          },
          "execution_count": 10
        },
        {
          "output_type": "display_data",
          "data": {
            "image/png": "[encoded data removed]",
            "text/plain": [
              "<Figure size 432x288 with 1 Axes>"
            ]
          },
          "metadata": {
            "tags": [],
            "needs_background": "light"
          }
        }
      ]
    },
    {
      "cell_type": "code",
      "metadata": {
        "id": "gLuJ3nJylc00",
        "outputId": "ca6837c5-b3d6-418e-ce60-e65e0c279fec",
        "colab": {
          "base_uri": "https://localhost:8080/",
          "height": 312
        }
      },
      "source": [
        "event_C.Ratio.plot.line(title = 'Event C Current Sales Ratio')\n",
        "plt.xlabel('Day')\n",
        "plt.ylabel('Ratio')"
      ],
      "execution_count": null,
      "outputs": [
        {
          "output_type": "execute_result",
          "data": {
            "text/plain": [
              "Text(0, 0.5, 'Ratio')"
            ]
          },
          "metadata": {
            "tags": []
          },
          "execution_count": 11
        },
        {
          "output_type": "display_data",
          "data": {
            "image/png": "[encoded data removed]",
            "text/plain": [
              "<Figure size 432x288 with 1 Axes>"
            ]
          },
          "metadata": {
            "tags": [],
            "needs_background": "light"
          }
        }
      ]
    },
    {
      "cell_type": "markdown",
      "metadata": {
        "id": "ZH6BiBVdlxT7"
      },
      "source": [
        "# How we can gain the insight\n",
        " The a look back, object from insight is to make a action plan"
      ]
    },
    {
      "cell_type": "code",
      "metadata": {
        "id": "-FqrBIXimCQ2"
      },
      "source": [
        "event_C['invoice_date'] = pd.to_datetime(event_C['invoice_date']).dt.date\n",
        "event_C['event_start_date'] = pd.to_datetime(event_C['event_start_date']).dt.date\n",
        "event_C['event_end_date'] = pd.to_datetime(event_C['event_end_date']).dt.date"
      ],
      "execution_count": null,
      "outputs": []
    },
    {
      "cell_type": "code",
      "metadata": {
        "id": "zwqgGlfjm_if",
        "outputId": "2a4fbb13-8c61-405b-ec66-a4c01fdd22c8",
        "colab": {
          "base_uri": "https://localhost:8080/",
          "height": 368
        }
      },
      "source": [
        "# let's take a look at the sales\n",
        "event_C.plot.line('invoice_date', 'Ratio', figsize=(15, 5), title = 'ebent_C current sales')\n",
        "plt.ylabel('Ratio')"
      ],
      "execution_count": null,
      "outputs": [
        {
          "output_type": "execute_result",
          "data": {
            "text/plain": [
              "Text(0, 0.5, 'Ratio')"
            ]
          },
          "metadata": {
            "tags": []
          },
          "execution_count": 14
        },
        {
          "output_type": "display_data",
          "data": {
            "image/png": "[encoded data removed]",
            "text/plain": [
              "<Figure size 1080x360 with 1 Axes>"
            ]
          },
          "metadata": {
            "tags": [],
            "needs_background": "light"
          }
        }
      ]
    },
    {
      "cell_type": "code",
      "metadata": {
        "id": "UzaaMYhrnrew",
        "outputId": "ce74ff75-99f5-48c9-8abb-f79cf30047d8",
        "colab": {
          "base_uri": "https://localhost:8080/",
          "height": 34
        }
      },
      "source": [
        "event_C.event_end_date.nunique()"
      ],
      "execution_count": null,
      "outputs": [
        {
          "output_type": "execute_result",
          "data": {
            "text/plain": [
              "1"
            ]
          },
          "metadata": {
            "tags": []
          },
          "execution_count": 16
        }
      ]
    },
    {
      "cell_type": "code",
      "metadata": {
        "id": "ppNGhgWdn6bL",
        "outputId": "5acb1e57-4da8-476b-9eca-88db6ea2d9c7",
        "colab": {
          "base_uri": "https://localhost:8080/",
          "height": 51
        }
      },
      "source": [
        "print('start event date = ', event_C.event_start_date[0])\n",
        "print('start end date = ', event_C.event_end_date[0])"
      ],
      "execution_count": null,
      "outputs": [
        {
          "output_type": "stream",
          "text": [
            "start event date =  2020-06-27\n",
            "start end date =  2020-06-27\n"
          ],
          "name": "stdout"
        }
      ]
    },
    {
      "cell_type": "code",
      "metadata": {
        "id": "JQGr9WnOoSKc",
        "outputId": "28d43226-e1de-4f46-8adb-86abb5102e67",
        "colab": {
          "base_uri": "https://localhost:8080/",
          "height": 34
        }
      },
      "source": [
        "event_C.Sold.sum()"
      ],
      "execution_count": null,
      "outputs": [
        {
          "output_type": "execute_result",
          "data": {
            "text/plain": [
              "14948"
            ]
          },
          "metadata": {
            "tags": []
          },
          "execution_count": 19
        }
      ]
    },
    {
      "cell_type": "code",
      "metadata": {
        "id": "zus1ZdoxodUN",
        "outputId": "40f6d18e-6927-48c2-83a6-adea4cbf2447",
        "colab": {
          "base_uri": "https://localhost:8080/",
          "height": 34
        }
      },
      "source": [
        "event_C.Sold.mean()"
      ],
      "execution_count": null,
      "outputs": [
        {
          "output_type": "execute_result",
          "data": {
            "text/plain": [
              "498.26666666666665"
            ]
          },
          "metadata": {
            "tags": []
          },
          "execution_count": 20
        }
      ]
    },
    {
      "cell_type": "code",
      "metadata": {
        "id": "7UplxEKnojM3",
        "outputId": "fccf2d2a-6754-4d7a-e265-1899f83da9fd",
        "colab": {
          "base_uri": "https://localhost:8080/",
          "height": 359
        }
      },
      "source": [
        "event_C.head(10)"
      ],
      "execution_count": null,
      "outputs": [
        {
          "output_type": "execute_result",
          "data": {
            "text/html": [
              "<div>\n",
              "<style scoped>\n",
              "    .dataframe tbody tr th:only-of-type {\n",
              "        vertical-align: middle;\n",
              "    }\n",
              "\n",
              "    .dataframe tbody tr th {\n",
              "        vertical-align: top;\n",
              "    }\n",
              "\n",
              "    .dataframe thead th {\n",
              "        text-align: right;\n",
              "    }\n",
              "</style>\n",
              "<table border=\"1\" class=\"dataframe\">\n",
              "  <thead>\n",
              "    <tr style=\"text-align: right;\">\n",
              "      <th></th>\n",
              "      <th>index</th>\n",
              "      <th>id_event</th>\n",
              "      <th>invoice_date</th>\n",
              "      <th>Sold</th>\n",
              "      <th>Transaction</th>\n",
              "      <th>event_start_date</th>\n",
              "      <th>event_end_date</th>\n",
              "      <th>status_event</th>\n",
              "      <th>Ratio</th>\n",
              "    </tr>\n",
              "  </thead>\n",
              "  <tbody>\n",
              "    <tr>\n",
              "      <th>0</th>\n",
              "      <td>180</td>\n",
              "      <td>21450</td>\n",
              "      <td>2019-12-02</td>\n",
              "      <td>7584</td>\n",
              "      <td>3467.0</td>\n",
              "      <td>2020-06-27</td>\n",
              "      <td>2020-06-27</td>\n",
              "      <td>Active Event</td>\n",
              "      <td>0.30336</td>\n",
              "    </tr>\n",
              "    <tr>\n",
              "      <th>1</th>\n",
              "      <td>181</td>\n",
              "      <td>21450</td>\n",
              "      <td>2019-12-03</td>\n",
              "      <td>1616</td>\n",
              "      <td>766.0</td>\n",
              "      <td>2020-06-27</td>\n",
              "      <td>2020-06-27</td>\n",
              "      <td>Active Event</td>\n",
              "      <td>0.06464</td>\n",
              "    </tr>\n",
              "    <tr>\n",
              "      <th>2</th>\n",
              "      <td>182</td>\n",
              "      <td>21450</td>\n",
              "      <td>2019-12-04</td>\n",
              "      <td>1394</td>\n",
              "      <td>702.0</td>\n",
              "      <td>2020-06-27</td>\n",
              "      <td>2020-06-27</td>\n",
              "      <td>Active Event</td>\n",
              "      <td>0.05576</td>\n",
              "    </tr>\n",
              "    <tr>\n",
              "      <th>3</th>\n",
              "      <td>183</td>\n",
              "      <td>21450</td>\n",
              "      <td>2019-12-05</td>\n",
              "      <td>629</td>\n",
              "      <td>321.0</td>\n",
              "      <td>2020-06-27</td>\n",
              "      <td>2020-06-27</td>\n",
              "      <td>Active Event</td>\n",
              "      <td>0.02516</td>\n",
              "    </tr>\n",
              "    <tr>\n",
              "      <th>4</th>\n",
              "      <td>184</td>\n",
              "      <td>21450</td>\n",
              "      <td>2019-12-06</td>\n",
              "      <td>408</td>\n",
              "      <td>206.0</td>\n",
              "      <td>2020-06-27</td>\n",
              "      <td>2020-06-27</td>\n",
              "      <td>Active Event</td>\n",
              "      <td>0.01632</td>\n",
              "    </tr>\n",
              "    <tr>\n",
              "      <th>5</th>\n",
              "      <td>185</td>\n",
              "      <td>21450</td>\n",
              "      <td>2019-12-07</td>\n",
              "      <td>390</td>\n",
              "      <td>197.0</td>\n",
              "      <td>2020-06-27</td>\n",
              "      <td>2020-06-27</td>\n",
              "      <td>Active Event</td>\n",
              "      <td>0.01560</td>\n",
              "    </tr>\n",
              "    <tr>\n",
              "      <th>6</th>\n",
              "      <td>186</td>\n",
              "      <td>21450</td>\n",
              "      <td>2019-12-08</td>\n",
              "      <td>260</td>\n",
              "      <td>138.0</td>\n",
              "      <td>2020-06-27</td>\n",
              "      <td>2020-06-27</td>\n",
              "      <td>Active Event</td>\n",
              "      <td>0.01040</td>\n",
              "    </tr>\n",
              "    <tr>\n",
              "      <th>7</th>\n",
              "      <td>187</td>\n",
              "      <td>21450</td>\n",
              "      <td>2019-12-09</td>\n",
              "      <td>261</td>\n",
              "      <td>122.0</td>\n",
              "      <td>2020-06-27</td>\n",
              "      <td>2020-06-27</td>\n",
              "      <td>Active Event</td>\n",
              "      <td>0.01044</td>\n",
              "    </tr>\n",
              "    <tr>\n",
              "      <th>8</th>\n",
              "      <td>188</td>\n",
              "      <td>21450</td>\n",
              "      <td>2019-12-10</td>\n",
              "      <td>193</td>\n",
              "      <td>97.0</td>\n",
              "      <td>2020-06-27</td>\n",
              "      <td>2020-06-27</td>\n",
              "      <td>Active Event</td>\n",
              "      <td>0.00772</td>\n",
              "    </tr>\n",
              "    <tr>\n",
              "      <th>9</th>\n",
              "      <td>189</td>\n",
              "      <td>21450</td>\n",
              "      <td>2019-12-11</td>\n",
              "      <td>95</td>\n",
              "      <td>44.0</td>\n",
              "      <td>2020-06-27</td>\n",
              "      <td>2020-06-27</td>\n",
              "      <td>Active Event</td>\n",
              "      <td>0.00380</td>\n",
              "    </tr>\n",
              "  </tbody>\n",
              "</table>\n",
              "</div>"
            ],
            "text/plain": [
              "   index  id_event invoice_date  Sold  Transaction event_start_date  \\\n",
              "0    180     21450   2019-12-02  7584       3467.0       2020-06-27   \n",
              "1    181     21450   2019-12-03  1616        766.0       2020-06-27   \n",
              "2    182     21450   2019-12-04  1394        702.0       2020-06-27   \n",
              "3    183     21450   2019-12-05   629        321.0       2020-06-27   \n",
              "4    184     21450   2019-12-06   408        206.0       2020-06-27   \n",
              "5    185     21450   2019-12-07   390        197.0       2020-06-27   \n",
              "6    186     21450   2019-12-08   260        138.0       2020-06-27   \n",
              "7    187     21450   2019-12-09   261        122.0       2020-06-27   \n",
              "8    188     21450   2019-12-10   193         97.0       2020-06-27   \n",
              "9    189     21450   2019-12-11    95         44.0       2020-06-27   \n",
              "\n",
              "  event_end_date  status_event    Ratio  \n",
              "0     2020-06-27  Active Event  0.30336  \n",
              "1     2020-06-27  Active Event  0.06464  \n",
              "2     2020-06-27  Active Event  0.05576  \n",
              "3     2020-06-27  Active Event  0.02516  \n",
              "4     2020-06-27  Active Event  0.01632  \n",
              "5     2020-06-27  Active Event  0.01560  \n",
              "6     2020-06-27  Active Event  0.01040  \n",
              "7     2020-06-27  Active Event  0.01044  \n",
              "8     2020-06-27  Active Event  0.00772  \n",
              "9     2020-06-27  Active Event  0.00380  "
            ]
          },
          "metadata": {
            "tags": []
          },
          "execution_count": 21
        }
      ]
    },
    {
      "cell_type": "code",
      "metadata": {
        "id": "l8aroUYgoqZa",
        "outputId": "f72dd7dd-3dc0-4d46-9e44-f9f4b2e23bd4",
        "colab": {
          "base_uri": "https://localhost:8080/",
          "height": 34
        }
      },
      "source": [
        "event_C[4:].Sold.mean()"
      ],
      "execution_count": null,
      "outputs": [
        {
          "output_type": "execute_result",
          "data": {
            "text/plain": [
              "143.26923076923077"
            ]
          },
          "metadata": {
            "tags": []
          },
          "execution_count": 22
        }
      ]
    },
    {
      "cell_type": "code",
      "metadata": {
        "id": "UxPqFJg9o0MC",
        "outputId": "52b0a06d-4742-4ffb-890c-a61389e3467d",
        "colab": {
          "base_uri": "https://localhost:8080/",
          "height": 34
        }
      },
      "source": [
        "event_C.Sold.median()"
      ],
      "execution_count": null,
      "outputs": [
        {
          "output_type": "execute_result",
          "data": {
            "text/plain": [
              "113.5"
            ]
          },
          "metadata": {
            "tags": []
          },
          "execution_count": 23
        }
      ]
    },
    {
      "cell_type": "markdown",
      "metadata": {
        "id": "uRihH_Lqo9C6"
      },
      "source": [
        "Oke, make assummption maximum 114 tikets sold per day.\n",
        "But we have extremenly drop month on Ramadhan :("
      ]
    },
    {
      "cell_type": "code",
      "metadata": {
        "id": "Sgmv9AYPo69P",
        "outputId": "22d1c87b-1d3e-4209-f3db-e4e080d731af",
        "colab": {
          "base_uri": "https://localhost:8080/",
          "height": 34
        }
      },
      "source": [
        "114*30*3"
      ],
      "execution_count": null,
      "outputs": [
        {
          "output_type": "execute_result",
          "data": {
            "text/plain": [
              "10260"
            ]
          },
          "metadata": {
            "tags": []
          },
          "execution_count": 24
        }
      ]
    },
    {
      "cell_type": "code",
      "metadata": {
        "id": "HDN_KMKmpTKZ"
      },
      "source": [
        "# that's not the secure number. need chect trafic day"
      ],
      "execution_count": null,
      "outputs": []
    },
    {
      "cell_type": "code",
      "metadata": {
        "id": "FjLMGHzApcNV"
      },
      "source": [
        "event_C['invoice_day'] = pd.to_datetime(event_C['invoice_date']).dt.weekday\n"
      ],
      "execution_count": null,
      "outputs": []
    },
    {
      "cell_type": "code",
      "metadata": {
        "id": "Olkq1xEEpvDK"
      },
      "source": [
        "event_C['invoice_weekday'] = event_C.invoice_day.replace({0:'Monday',\n",
        "                                                          1: 'tuesdat',\n",
        "                                                          2: 'Wednesday',\n",
        "                                                          3: 'Thursday',\n",
        "                                                          4: 'Friday',\n",
        "                                                          5: 'Saturday',\n",
        "                                                          6: 'Sunday'})"
      ],
      "execution_count": null,
      "outputs": []
    },
    {
      "cell_type": "code",
      "metadata": {
        "id": "EH7LEUFPqXHm",
        "outputId": "5684e5a5-3d46-4f0e-c979-14aae11e4b74",
        "colab": {
          "base_uri": "https://localhost:8080/",
          "height": 170
        }
      },
      "source": [
        "event_C.groupby(['invoice_weekday'])['Transaction'].sum()"
      ],
      "execution_count": null,
      "outputs": [
        {
          "output_type": "execute_result",
          "data": {
            "text/plain": [
              "invoice_weekday\n",
              "Friday        381.0\n",
              "Monday       3806.0\n",
              "Saturday      362.0\n",
              "Sunday        255.0\n",
              "Thursday      421.0\n",
              "Wednesday     811.0\n",
              "tuesdat      1135.0\n",
              "Name: Transaction, dtype: float64"
            ]
          },
          "metadata": {
            "tags": []
          },
          "execution_count": 28
        }
      ]
    },
    {
      "cell_type": "code",
      "metadata": {
        "id": "TYqmlRG2qucD",
        "outputId": "a77a5aa2-3b22-4353-946b-f14ec3ef6a85",
        "colab": {
          "base_uri": "https://localhost:8080/",
          "height": 296
        }
      },
      "source": [
        "\n",
        "event_C.groupby(['invoice_weekday'])[['Transaction','Sold']].sum().plot.barh()\n",
        "plt.xlabel('# Transaction')\n",
        "plt.ylabel('days')"
      ],
      "execution_count": null,
      "outputs": [
        {
          "output_type": "execute_result",
          "data": {
            "text/plain": [
              "Text(0, 0.5, 'days')"
            ]
          },
          "metadata": {
            "tags": []
          },
          "execution_count": 30
        },
        {
          "output_type": "display_data",
          "data": {
            "image/png": "[encoded data removed]",
            "text/plain": [
              "<Figure size 432x288 with 1 Axes>"
            ]
          },
          "metadata": {
            "tags": [],
            "needs_background": "light"
          }
        }
      ]
    },
    {
      "cell_type": "code",
      "metadata": {
        "id": "TTUgtS1Bq738",
        "outputId": "cfebe3e2-aac1-42b2-8bdd-7b3b78517c42",
        "colab": {
          "base_uri": "https://localhost:8080/",
          "height": 296
        }
      },
      "source": [
        "\n",
        "event_C[4:].groupby(['invoice_weekday'])[['Transaction','Sold']].sum().plot.barh()\n",
        "plt.xlabel('# Transaction')\n",
        "plt.ylabel('days')"
      ],
      "execution_count": null,
      "outputs": [
        {
          "output_type": "execute_result",
          "data": {
            "text/plain": [
              "Text(0, 0.5, 'days')"
            ]
          },
          "metadata": {
            "tags": []
          },
          "execution_count": 32
        },
        {
          "output_type": "display_data",
          "data": {
            "image/png": "[encoded data removed]",
            "text/plain": [
              "<Figure size 432x288 with 1 Axes>"
            ]
          },
          "metadata": {
            "tags": [],
            "needs_background": "light"
          }
        }
      ]
    },
    {
      "cell_type": "code",
      "metadata": {
        "id": "A6icnpbGrB8N"
      },
      "source": [
        "week = event_C[4:].groupby(['invoice_weekday'])[['Transaction','Sold']].sum()"
      ],
      "execution_count": null,
      "outputs": []
    },
    {
      "cell_type": "code",
      "metadata": {
        "id": "HtHo5BOjrNC7",
        "outputId": "2195350f-e1af-4953-d997-ab824f174aca",
        "colab": {
          "base_uri": "https://localhost:8080/",
          "height": 297
        }
      },
      "source": [
        "week"
      ],
      "execution_count": null,
      "outputs": [
        {
          "output_type": "execute_result",
          "data": {
            "text/html": [
              "<div>\n",
              "<style scoped>\n",
              "    .dataframe tbody tr th:only-of-type {\n",
              "        vertical-align: middle;\n",
              "    }\n",
              "\n",
              "    .dataframe tbody tr th {\n",
              "        vertical-align: top;\n",
              "    }\n",
              "\n",
              "    .dataframe thead th {\n",
              "        text-align: right;\n",
              "    }\n",
              "</style>\n",
              "<table border=\"1\" class=\"dataframe\">\n",
              "  <thead>\n",
              "    <tr style=\"text-align: right;\">\n",
              "      <th></th>\n",
              "      <th>Transaction</th>\n",
              "      <th>Sold</th>\n",
              "    </tr>\n",
              "    <tr>\n",
              "      <th>invoice_weekday</th>\n",
              "      <th></th>\n",
              "      <th></th>\n",
              "    </tr>\n",
              "  </thead>\n",
              "  <tbody>\n",
              "    <tr>\n",
              "      <th>Friday</th>\n",
              "      <td>381.0</td>\n",
              "      <td>768</td>\n",
              "    </tr>\n",
              "    <tr>\n",
              "      <th>Monday</th>\n",
              "      <td>339.0</td>\n",
              "      <td>690</td>\n",
              "    </tr>\n",
              "    <tr>\n",
              "      <th>Saturday</th>\n",
              "      <td>362.0</td>\n",
              "      <td>692</td>\n",
              "    </tr>\n",
              "    <tr>\n",
              "      <th>Sunday</th>\n",
              "      <td>255.0</td>\n",
              "      <td>499</td>\n",
              "    </tr>\n",
              "    <tr>\n",
              "      <th>Thursday</th>\n",
              "      <td>100.0</td>\n",
              "      <td>229</td>\n",
              "    </tr>\n",
              "    <tr>\n",
              "      <th>Wednesday</th>\n",
              "      <td>109.0</td>\n",
              "      <td>211</td>\n",
              "    </tr>\n",
              "    <tr>\n",
              "      <th>tuesdat</th>\n",
              "      <td>369.0</td>\n",
              "      <td>636</td>\n",
              "    </tr>\n",
              "  </tbody>\n",
              "</table>\n",
              "</div>"
            ],
            "text/plain": [
              "                 Transaction  Sold\n",
              "invoice_weekday                   \n",
              "Friday                 381.0   768\n",
              "Monday                 339.0   690\n",
              "Saturday               362.0   692\n",
              "Sunday                 255.0   499\n",
              "Thursday               100.0   229\n",
              "Wednesday              109.0   211\n",
              "tuesdat                369.0   636"
            ]
          },
          "metadata": {
            "tags": []
          },
          "execution_count": 35
        }
      ]
    },
    {
      "cell_type": "code",
      "metadata": {
        "id": "9lVnFiCVrSnD",
        "outputId": "0cd76c1e-de04-4d52-93cc-0df4c8635d21",
        "colab": {
          "base_uri": "https://localhost:8080/",
          "height": 282
        }
      },
      "source": [
        "week.reindex(index = ['Sunday','Saturday','Friday','Thursday','Wednesday','Tuesday','Monday']).plot.barh()"
      ],
      "execution_count": null,
      "outputs": [
        {
          "output_type": "execute_result",
          "data": {
            "text/plain": [
              "<matplotlib.axes._subplots.AxesSubplot at 0x7effd4f44400>"
            ]
          },
          "metadata": {
            "tags": []
          },
          "execution_count": 36
        },
        {
          "output_type": "display_data",
          "data": {
            "image/png": "[encoded data removed]",
            "text/plain": [
              "<Figure size 432x288 with 1 Axes>"
            ]
          },
          "metadata": {
            "tags": [],
            "needs_background": "light"
          }
        }
      ]
    },
    {
      "cell_type": "markdown",
      "metadata": {
        "id": "HMeypegjrYZq"
      },
      "source": [
        "#Information :\n",
        "1. 5 months left befor D-Day\n",
        "2. 14.948 of 25.000 tickets sold (59%)\n",
        "3. Reach average 114 tickets per day\n",
        "4. The traffic of transaction peak on Friday\n",
        "5. 2 tickets sold on once transactions\n",
        "6. If constan selling +- 114 ticket/day till end, ticket will be sold out.\n",
        "#Insight and action plan\n",
        "1. More intensified publication and announcement on Thursday, 12-14 PM and 19-21 PM\n",
        "2. Ramadhan need to make some publication plan again\n",
        "3. We can implement promo using bundle 2 tickets"
      ]
    },
    {
      "cell_type": "code",
      "metadata": {
        "id": "qP2SA9AzrvLM"
      },
      "source": [
        ""
      ],
      "execution_count": null,
      "outputs": []
    }
  ]
}