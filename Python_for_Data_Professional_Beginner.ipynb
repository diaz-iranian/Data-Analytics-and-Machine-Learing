{
  "nbformat": 4,
  "nbformat_minor": 0,
  "metadata": {
    "colab": {
      "name": "Python for Data Professional Beginner",
      "provenance": []
    },
    "kernelspec": {
      "name": "python3",
      "display_name": "Python 3"
    }
  },
  "cells": [
    {
      "cell_type": "markdown",
      "metadata": {
        "id": "24CVFBjXl6FH"
      },
      "source": [
        "# Class dan Objek dalam Python 1"
      ]
    },
    {
      "cell_type": "code",
      "metadata": {
        "id": "ty0SXWYil-DY",
        "outputId": "d954c6eb-3562-4ff9-d3ad-542b7935ed4b",
        "colab": {
          "base_uri": "https://localhost:8080/",
          "height": 68
        }
      },
      "source": [
        "# Definisikan class karyawan\n",
        "class Karyawan :\n",
        "  nama_perusahaan = 'ABC'\n",
        "# Inisiasi objek yang dinyatakan dalam variabel aksara dan senja\n",
        "aksara = Karyawan()\n",
        "senja  = Karyawan()\n",
        "# Cetak nama perusahaan melalui kyword __class__\n",
        "# Pada class atribut nama perusahaan\n",
        "print(aksara.__class__.nama_perusahaan)\n",
        "# Ubah nama perusahaan menjadi 'DEF'\n",
        "aksara.__class__.nama_perusahaan = 'DEF'\n",
        "# cetak nama objek nama perusahaan senja dan aksara\n",
        "print(aksara.__class__.nama_perusahaan)\n",
        "print(senja.__class__.nama_perusahaan)"
      ],
      "execution_count": null,
      "outputs": [
        {
          "output_type": "stream",
          "text": [
            "ABC\n",
            "DEF\n",
            "DEF\n"
          ],
          "name": "stdout"
        }
      ]
    },
    {
      "cell_type": "markdown",
      "metadata": {
        "id": "fp6om9ulpJvp"
      },
      "source": [
        "# Class dan Objek dalam Python 2"
      ]
    },
    {
      "cell_type": "code",
      "metadata": {
        "id": "tnvJP_zlpMnZ",
        "outputId": "5c3c57cb-ed65-4248-e348-ab38959f6769",
        "colab": {
          "base_uri": "https://localhost:8080/",
          "height": 51
        }
      },
      "source": [
        "# Definiksikan class karyawan\n",
        "class Karyawan:\n",
        "  nama_perusahaan = 'ABC'\n",
        "  def __init__(self, nama, usia, pendapatan):\n",
        "    self.nama = nama\n",
        "    self.usia = usia\n",
        "    self.pendapatan = pendapatan\n",
        "# membuat objek bernama dasiran dan juliani\n",
        "dasiran = Karyawan('Dasiran', 25, 17000000)\n",
        "juliani = Karyawan('juliani', 22, 10000000)\n",
        "# mencetak objek bernama dasiran\n",
        "print(dasiran.nama + ' Usia: '+ str(dasiran.usia) + ' pendapatan ' + str(aksara.pendapatan))\n",
        "# mencetaK objek bernama juliani\n",
        "print(juliani.nama + ' Usia: ' + str(juliani.usia) + ' pendapatan ' + str(juliani.pendapatan))"
      ],
      "execution_count": null,
      "outputs": [
        {
          "output_type": "stream",
          "text": [
            "Dasiran Usia: 25 pendapatan 17000000\n",
            "juliani Usia: 22 pendapatan 10000000\n"
          ],
          "name": "stdout"
        }
      ]
    },
    {
      "cell_type": "markdown",
      "metadata": {
        "id": "NWCB3H2ItIx4"
      },
      "source": [
        "# Latihan 1"
      ]
    },
    {
      "cell_type": "code",
      "metadata": {
        "id": "bqTuwfFkspnD",
        "outputId": "e6cabaf4-fa6a-464c-fc4d-eb0f5880aac8",
        "colab": {
          "base_uri": "https://localhost:8080/",
          "height": 34
        }
      },
      "source": [
        "class Karyawan: \n",
        "    nama_perusahaan = 'ABC'\n",
        "    def __init__(self, nama, usia, pendapatan):\n",
        "        self.nama = nama\n",
        "        self.usia = usia\n",
        "        self.pendapatan = pendapatan\n",
        "        if usia > 30:\n",
        "            self.pendapatan += 1500000\n",
        "\n",
        "karyawan_1 = Karyawan('Budi', 35, 7500000)\n",
        "karyawan_2 = Karyawan('Didi', 30, 8000000)\n",
        "\n",
        "total_pengeluaran = karyawan_1.pendapatan + karyawan_2.pendapatan \n",
        "print(total_pengeluaran)"
      ],
      "execution_count": null,
      "outputs": [
        {
          "output_type": "stream",
          "text": [
            "17000000\n"
          ],
          "name": "stdout"
        }
      ]
    },
    {
      "cell_type": "markdown",
      "metadata": {
        "id": "U0oodE3WtL2E"
      },
      "source": [
        "# Latihan 2"
      ]
    },
    {
      "cell_type": "code",
      "metadata": {
        "id": "S0tJ7yZntOxB",
        "outputId": "d9e208df-94d8-4301-a34d-3e1e564583b9",
        "colab": {
          "base_uri": "https://localhost:8080/",
          "height": 34
        }
      },
      "source": [
        "class Karyawan:\n",
        "    nama_perusahaan = 'ABC'\n",
        "    tunjangan_transportasi = 500000\n",
        "    def __init__(self, nama, usia, pendapatan):\n",
        "        self.nama = nama\n",
        "        self.usia = usia\n",
        "        self.pendapatan = pendapatan\n",
        "\n",
        "karyawan_1 = Karyawan('Budi', 35, 5000000)\n",
        "karyawan_2 = Karyawan('Didi', 30, 5000000)\n",
        "karyawan_1.__class__.nama_perusahaan = 1000000\n",
        "\n",
        "total_pengeluaran = karyawan_1.__class__.tunjangan_transportasi\n",
        "total_pengeluaran += karyawan_2. __class__.tunjangan_transportasi\n",
        "total_pengeluaran += karyawan_1.pendapatan\n",
        "total_pengeluaran += karyawan_2.pendapatan\n",
        "print(total_pengeluaran)"
      ],
      "execution_count": null,
      "outputs": [
        {
          "output_type": "stream",
          "text": [
            "11000000\n"
          ],
          "name": "stdout"
        }
      ]
    },
    {
      "cell_type": "markdown",
      "metadata": {
        "id": "H4pXtwWjvvkM"
      },
      "source": [
        "# Behavior pada Class"
      ]
    },
    {
      "cell_type": "code",
      "metadata": {
        "id": "xdEkDtoyv0pT",
        "outputId": "e00fed54-57ca-4520-b94e-603dde5dc6da",
        "colab": {
          "base_uri": "https://localhost:8080/",
          "height": 51
        }
      },
      "source": [
        "# definisikan class karyawan tersebut dengan atribut dan fungsinya\n",
        "class Karyawan:\n",
        "  nama_perusahaan = 'ABC'\n",
        "  insentif_lembur = 250000\n",
        "  def __init__(self, nama, usia, pendapatan):\n",
        "    self.nama = nama\n",
        "    self.usia = usia\n",
        "    self.pendapatan = pendapatan\n",
        "    self.pendapatan_tambahan = 0\n",
        "  def lembur(self):\n",
        "    self.pendapatan_tambahan += self.insentif_lembur\n",
        "  def tambahan_proyek(self, insentife_proyek):\n",
        "    self.pendapatan_tambahan += insentife_proyek\n",
        "  def total_pendapatan(self):\n",
        "    return self.pendapatan_tambahan + self.pendapatan_tambahan\n",
        "# Membuat objek karyawan benama dasiran dan juliani\n",
        "dasiran = Karyawan('Dasiran', 25, 20000000)\n",
        "juliani = Karyawan('Juliani', 22, 15000000)\n",
        "# dasiran melaksanakan lembur\n",
        "dasiran.lembur()\n",
        "# juliani memiliki proyek tambahan\n",
        "juliani.tambahan_proyek(25000000)\n",
        "# mencetak total pendapatan dasiran dan juliani\n",
        "print('Pendapatan total dasiran: ' + str(dasiran.total_pendapatan()))\n",
        "print('Pendapatan total juliani: ' + str(juliani.total_pendapatan()))"
      ],
      "execution_count": null,
      "outputs": [
        {
          "output_type": "stream",
          "text": [
            "Pendapatan total dasiran: 500000\n",
            "Pendapatan total juliani: 50000000\n"
          ],
          "name": "stdout"
        }
      ]
    },
    {
      "cell_type": "markdown",
      "metadata": {
        "id": "S5YXgBZYm8I_"
      },
      "source": [
        "# Inheritance pada Python – Part 1"
      ]
    },
    {
      "cell_type": "code",
      "metadata": {
        "id": "rBek4WKMm9r1",
        "outputId": "84750f3d-ac3d-4466-b252-148a7ae09691",
        "colab": {
          "base_uri": "https://localhost:8080/",
          "height": 51
        }
      },
      "source": [
        "# Definisikan class Karyawan (sebagai base class)\n",
        "class Karyawan: \n",
        "    nama_perusahaan = 'ABC' \n",
        "    insentif_lembur = 250000\n",
        "    def __init__(self, nama, usia, pendapatan): \n",
        "        self.nama = nama\n",
        "        self.usia = usia \n",
        "        self.pendapatan = pendapatan \n",
        "        self.pendapatan_tambahan = 0\n",
        "    def lembur(self):\n",
        "        self.pendapatan_tambahan += self.insentif_lembur \n",
        "    def tambahan_proyek(self, insentif_proyek):\n",
        "        self.pendapatan_tambahan += insentif_proyek \n",
        "    def total_pendapatan(self):\n",
        "        return self.pendapatan + self.pendapatan_tambahan\n",
        "# Buat class turunan (sebagai inherit class) dari class karyawan, \n",
        "# yaitu class AnalisData\n",
        "class AnalisData(Karyawan):\n",
        "    def __init__(self, nama, usia, pendapatan):\n",
        "    # melakukan pemanggilan konstruktur class Karyawan \n",
        "        super().__init__(nama, usia, pendapatan)\n",
        "# Buat kembali class turunan (sebagai inherit class) dari class karyawan,  \n",
        "# yaitu class IlmuwanData\n",
        "class IlmuwanData(Karyawan):\n",
        "    def __init__(self, nama, usia, pendapatan):\n",
        "        # melakukan pemanggilan konstruktur class Karyawan \n",
        "        super().__init__(nama, usia, pendapatan)\n",
        "# Buat objek karyawan yang bekerja sebagai AnalisData\n",
        "aksara = AnalisData('Aksara', 25, 8500000)\n",
        "aksara.lembur()\n",
        "print(aksara.total_pendapatan())\n",
        "# Buat objek karyawan yang bekerja sebagai IlmuwanData\n",
        "senja = IlmuwanData('Senja', 28, 13000000)\n",
        "senja.tambahan_proyek(2000000)\n",
        "print(senja.total_pendapatan())"
      ],
      "execution_count": null,
      "outputs": [
        {
          "output_type": "stream",
          "text": [
            "8750000\n",
            "15000000\n"
          ],
          "name": "stdout"
        }
      ]
    },
    {
      "cell_type": "markdown",
      "metadata": {
        "id": "6x1_o7Qco073"
      },
      "source": [
        "# Inheritance pada Python – Part 2"
      ]
    },
    {
      "cell_type": "code",
      "metadata": {
        "id": "7pH7P-12o2ka",
        "outputId": "0fad4da1-15d4-47cc-c86a-31c37839d7c4",
        "colab": {
          "base_uri": "https://localhost:8080/",
          "height": 51
        }
      },
      "source": [
        "# Definisikan class Karyawan (sebagai base class)\n",
        "class Karyawan: \n",
        "    nama_perusahaan = 'ABC' \n",
        "    insentif_lembur = 250000\n",
        "    def __init__(self, nama, usia, pendapatan): \n",
        "        self.nama = nama\n",
        "        self.usia = usia \n",
        "        self.pendapatan = pendapatan \n",
        "        self.pendapatan_tambahan = 0\n",
        "    def lembur(self):\n",
        "        self.pendapatan_tambahan += self.insentif_lembur \n",
        "    def tambahan_proyek(self, insentif_proyek):\n",
        "        self.pendapatan_tambahan += insentif_proyek \n",
        "    def total_pendapatan(self):\n",
        "        return self.pendapatan + self.pendapatan_tambahan\n",
        "# Buat class turunan (sebagai inherit class) dari class karyawan, \n",
        "# yaitu class AnalisData\n",
        "class AnalisData(Karyawan):\n",
        "    def __init__(self, nama, usia, pendapatan):\n",
        "    # melakukan pemanggilan konstruktur class Karyawan \n",
        "        super().__init__(nama, usia, pendapatan)\n",
        "# Buat kembali class turunan (sebagai inherit class) dari class karyawan,  \n",
        "# yaitu class IlmuwanData\n",
        "class IlmuwanData(Karyawan):\n",
        "    # mengubah atribut insentif_lembur yang digunakan pada fungsi lembur()\n",
        "    insentif_lembur = 500000\n",
        "    def __init__(self, nama, usia, pendapatan): \n",
        "        super().__init__(nama, usia, pendapatan)\n",
        "# Buat objek karyawan yang bekerja sebagai AnalisData\n",
        "aksara = AnalisData('Aksara', 25, 8500000)\n",
        "aksara.lembur()\n",
        "print(aksara.total_pendapatan())\n",
        "# Buat objek karyawan yang bekerja sebagai IlmuwanData\n",
        "senja = IlmuwanData('Senja', 28, 13000000)\n",
        "senja.lembur()\n",
        "print(senja.total_pendapatan())"
      ],
      "execution_count": null,
      "outputs": [
        {
          "output_type": "stream",
          "text": [
            "8750000\n",
            "13500000\n"
          ],
          "name": "stdout"
        }
      ]
    },
    {
      "cell_type": "code",
      "metadata": {
        "id": "IcDNPKsUp4Cm",
        "outputId": "196198fe-42c0-44f4-f5c6-f16e35b1178e",
        "colab": {
          "base_uri": "https://localhost:8080/",
          "height": 34
        }
      },
      "source": [
        "class Burung:\n",
        "    def __init__(self, nama):\n",
        "        self.nama = nama\n",
        "    def fly(self):\n",
        "        print(nama + ' sedang terbang')\n",
        "\n",
        "class Ayam(Burung):\n",
        "    def fly(self):\n",
        "        print(self.nama + ' tidak bisa terbang')\n",
        "\n",
        "anak_ayam = Ayam('Si Jago')\n",
        "anak_ayam.fly()"
      ],
      "execution_count": null,
      "outputs": [
        {
          "output_type": "stream",
          "text": [
            "Si Jago tidak bisa terbang\n"
          ],
          "name": "stdout"
        }
      ]
    },
    {
      "cell_type": "code",
      "metadata": {
        "id": "CCr1ipeVqcNT",
        "outputId": "5d5bd7de-5fb2-4ee9-8704-df548b17588b",
        "colab": {
          "base_uri": "https://localhost:8080/",
          "height": 51
        }
      },
      "source": [
        "class Mamalia:\n",
        "    def __init__(self, nama):\n",
        "        self.__nama = nama\n",
        "    def interaksi(self):\n",
        "        print('Bersuara')\n",
        "\n",
        "class Anjing(Mamalia):\n",
        "    def interaksi(self):\n",
        "        print('Guk')\n",
        "\n",
        "class Manusia(Mamalia):\n",
        "    pass\n",
        "\n",
        "blacky = Anjing('Blacky')\n",
        "toni = Manusia('Toni')\n",
        "toni.interaksi()\n",
        "blacky.interaksi()"
      ],
      "execution_count": null,
      "outputs": [
        {
          "output_type": "stream",
          "text": [
            "Bersuara\n",
            "Guk\n"
          ],
          "name": "stdout"
        }
      ]
    },
    {
      "cell_type": "markdown",
      "metadata": {
        "id": "w6Qtp3NEq2I0"
      },
      "source": [
        "# Polymorphism pada Python - Part 1\n",
        "\n",
        "Selain dapat mendefinisikan ulang nilai dari atribut yang diwarisi oleh parent class seperti pada contoh di atas, aku juga dapat juga dapat mendefinisikan ulang fungsi yang telah diwarisi oleh parent class."
      ]
    },
    {
      "cell_type": "code",
      "metadata": {
        "id": "pDoNHyrQq32q",
        "outputId": "8c5bc2e1-825f-493f-88df-a07bfe92f2d8",
        "colab": {
          "base_uri": "https://localhost:8080/",
          "height": 34
        }
      },
      "source": [
        "# Definisikan class Karyawan (sebagai base class)\n",
        "class Karyawan: \n",
        "    nama_perusahaan = 'ABC' \n",
        "    insentif_lembur = 250000\n",
        "    def __init__(self, nama, usia, pendapatan): \n",
        "        self.nama = nama\n",
        "        self.usia = usia \n",
        "        self.pendapatan = pendapatan \n",
        "        self.pendapatan_tambahan = 0\n",
        "    def lembur(self):\n",
        "        self.pendapatan_tambahan += self.insentif_lembur \n",
        "    def tambahan_proyek(self, insentif_proyek):\n",
        "        self.pendapatan_tambahan += insentif_proyek \n",
        "    def total_pendapatan(self):\n",
        "        return self.pendapatan + self.pendapatan_tambahan\n",
        "# Buat class turunan (sebagai inherit class) dari class karyawan, \n",
        "# yaitu class AnalisData\n",
        "class AnalisData(Karyawan):\n",
        "    def __init__(self, nama, usia, pendapatan):\n",
        "    # melakukan pemanggilan konstruktur class Karyawan \n",
        "        super().__init__(nama, usia, pendapatan)\n",
        "    # menerapkan polymorphism dengan mendefinisikan kembali fungsi \n",
        "    # lembur() pada class AnalisData \n",
        "    def lembur(self):\n",
        "        # pendapatan tambahan pada class AnalisData sebesar\n",
        "        # 10 % dari pendapatannya.\n",
        "        self.pendapatan_tambahan += int(self.pendapatan * 0.1)\n",
        "# Buat objek karyawan yang bekerja sebagai AnalisData\n",
        "aksara = AnalisData('Aksara', 25, 8500000)\n",
        "aksara.lembur()\n",
        "print(aksara.total_pendapatan())"
      ],
      "execution_count": null,
      "outputs": [
        {
          "output_type": "stream",
          "text": [
            "9350000\n"
          ],
          "name": "stdout"
        }
      ]
    },
    {
      "cell_type": "markdown",
      "metadata": {
        "id": "F4M5BxhIrheb"
      },
      "source": [
        "# Polymorphism pada Python - Part 2\n",
        "\n",
        "Pada konsep inheritance, melalui fungsi super(), selain dapat mengakses constructor milik parent class, child class juga dapat mengakses atribut/fungsi yang dimiliki oleh parent class."
      ]
    },
    {
      "cell_type": "code",
      "metadata": {
        "id": "pG6-1s-lrmEF",
        "outputId": "1404fe4b-74f6-4f6e-886b-0da8e21f3145",
        "colab": {
          "base_uri": "https://localhost:8080/",
          "height": 34
        }
      },
      "source": [
        "# Definisikan class Karyawan (sebagai base class)\n",
        "class Karyawan: \n",
        "    nama_perusahaan = 'ABC' \n",
        "    insentif_lembur = 250000\n",
        "    def __init__(self, nama, usia, pendapatan): \n",
        "        self.nama = nama\n",
        "        self.usia = usia \n",
        "        self.pendapatan = pendapatan \n",
        "        self.pendapatan_tambahan = 0\n",
        "    def lembur(self):\n",
        "        self.pendapatan_tambahan += self.insentif_lembur \n",
        "    def tambahan_proyek(self, insentif_proyek):\n",
        "        self.pendapatan_tambahan += insentif_proyek \n",
        "    def total_pendapatan(self):\n",
        "        return self.pendapatan + self.pendapatan_tambahan\n",
        "# Buat class turunan (sebagai inherit class) dari class karyawan, \n",
        "# yaitu class AnalisData\n",
        "class AnalisData(Karyawan):\n",
        "    def __init__(self, nama, usia, pendapatan): \n",
        "        super().__init__(nama, usia, pendapatan)\n",
        "    # mendefinisikan kembali fungsi lembur() pada class AnalisData \n",
        "    def lembur(self):\n",
        "        # memanggil fungsi lembur pada class Karyawan \n",
        "        super().lembur()\n",
        "        # pendapatan tambahan pada class AnalisData sebesar\n",
        "        # 5 % dari pendapatannya.\n",
        "        self.pendapatan_tambahan += int(self.pendapatan * 0.05)\n",
        "# Buat objek karyawan yang bekerja sebagai AnalisData\n",
        "aksara = AnalisData('Aksara', 25, 8500000)\n",
        "aksara.lembur()\n",
        "print(aksara.total_pendapatan())"
      ],
      "execution_count": null,
      "outputs": [
        {
          "output_type": "stream",
          "text": [
            "9175000\n"
          ],
          "name": "stdout"
        }
      ]
    },
    {
      "cell_type": "markdown",
      "metadata": {
        "id": "Oo_3k5mZueb0"
      },
      "source": [
        "# tugas praktek"
      ]
    },
    {
      "cell_type": "code",
      "metadata": {
        "id": "CnISmRonuhi1"
      },
      "source": [
        "# Definisikan class Karyawan\n",
        "class Karyawan:\n",
        "    def __init__(self, nama, usia, pendapatan, insentif_lembur): \n",
        "        self.nama = nama\n",
        "        self.usia = usia \n",
        "        self.pendapatan = pendapatan \n",
        "        self.pendapatan_tambahan = 0\n",
        "        self.insentif_lembur = insentif_lembur \n",
        "    def lembur(self):\n",
        "        self.pendapatan_tambahan += self.insentif_lembur \n",
        "    def tambahan_proyek(self,jumlah_tambahan):\n",
        "        self.pendapatan_tambahan += jumlah_tambahan \n",
        "    def total_pendapatan(self):\n",
        "        return self.pendapatan + self.pendapatan_tambahan\n",
        "# Definisikan class TenagaLepas sebagai child class dari\n",
        "# class Karyawan\n",
        "class TenagaLepas(Karyawan):\n",
        "     def __init__(self, nama, usia, pendapatan):\n",
        "        super().__init__(nama, usia, pendapatan, 0)\n",
        "     def tambahan_proyek(self, nilai_proyek):\n",
        "        self.pendapatan_tambahan += nilai_proyek * 0.01"
      ],
      "execution_count": null,
      "outputs": []
    },
    {
      "cell_type": "code",
      "metadata": {
        "id": "dv2kaDWmHtQ5",
        "outputId": "9a75ef33-5eb5-49b0-baaf-c9a6146a2e32",
        "colab": {
          "base_uri": "https://localhost:8080/",
          "height": 170
        }
      },
      "source": [
        "class Karyawan: \n",
        "    nama_perusahaan = 'ABC' \n",
        "    insentif_lembur = 250000\n",
        "    # usia akan di-set nilainya menjadi 21 saat tidak\n",
        "    # dispesifikasikan dan pendapatan akan di-set nilainya\n",
        "    # menjadi 5000000 saat tidak dispesifikasikan\n",
        "    def __init__(self, nama, usia= 21, pendapatan=5000000): \n",
        "        self.nama = nama\n",
        "        self.usia = usia \n",
        "        self.pendapatan = pendapatan \n",
        "        self.pendapatan_tambahan = 0\n",
        "    def lembur(self):\n",
        "        self.pendapatan_tambahan += self.insentif_lembur \n",
        "    def tambahan_proyek(self, insentif_proyek):\n",
        "        self.pendapatan_tambahan += insentif_proyek \n",
        "    def total_pendapatan(self):\n",
        "        return self.pendapatan + self.pendapatan_tambahan\n",
        "# Karyawan baru pertama yang bernama Budi\n",
        "karyawan_baru1 = Karyawan('Budi')\n",
        "print(karyawan_baru1.nama)\n",
        "print(karyawan_baru1.usia)\n",
        "print(karyawan_baru1.total_pendapatan())\n",
        "# Karyawan baru ke-2 yang bernama Didi, umur 25\n",
        "karyawan_baru2 = Karyawan('Didi', 25)\n",
        "print(karyawan_baru2.nama)\n",
        "print(karyawan_baru2.usia)\n",
        "print(karyawan_baru2.total_pendapatan())\n",
        "# Karyawan baru ke-3 yang bernama Hadi, pendapatan 8000000\n",
        "karyawan_baru3 = Karyawan('Hadi', pendapatan=8000000)\n",
        "print(karyawan_baru3.nama)\n",
        "print(karyawan_baru3.usia)\n",
        "print(karyawan_baru3.total_pendapatan())"
      ],
      "execution_count": null,
      "outputs": [
        {
          "output_type": "stream",
          "text": [
            "Budi\n",
            "21\n",
            "5000000\n",
            "Didi\n",
            "25\n",
            "5000000\n",
            "Hadi\n",
            "21\n",
            "8000000\n"
          ],
          "name": "stdout"
        }
      ]
    },
    {
      "cell_type": "markdown",
      "metadata": {
        "id": "E2Ox67efR3SW"
      },
      "source": [
        "# Project"
      ]
    },
    {
      "cell_type": "code",
      "metadata": {
        "id": "kiTKvbPIR5rY",
        "outputId": "67f17b73-e6dc-48c6-9d8e-4d3a1e9da0de",
        "colab": {
          "base_uri": "https://localhost:8080/",
          "height": 34
        }
      },
      "source": [
        "# Definisikan class Karyawan sebagai parent class\n",
        "class Karyawan:\n",
        "    def __init__(self, nama, usia, pendapatan, insentif_lembur):\n",
        "        self.nama = nama\n",
        "        self.usia = usia \n",
        "        self.pendapatan = pendapatan \n",
        "        self.pendapatan_tambahan = 0\n",
        "        self.insentif_lembur = insentif_lembur \n",
        "    def lembur(self):\n",
        "        self.pendapatan_tambahan += self.insentif_lembur\n",
        "    def tambahan_proyek(self,jumlah_tambahan):\n",
        "        self.pendapatan_tambahan += jumlah_tambahan \n",
        "    def total_pendapatan(self):\n",
        "        return self.pendapatan + self.pendapatan_tambahan \n",
        "\n",
        "# Definisikan class TenagaLepas sebagai child class dari class Karyawan \n",
        "class TenagaLepas(Karyawan):\n",
        "    def __init__(self, nama, usia, pendapatan): \n",
        "        super().__init__(nama, usia, pendapatan, 0)\n",
        "    def tambahan_proyek(self, nilai_proyek): \n",
        "        self.pendapatan_tambahan += nilai_proyek * 0.01\n",
        "\n",
        "# Definisikan class AnalisData sebagai child class dari class Karyawan \n",
        "class AnalisData(Karyawan):\n",
        "    def __init__(self, nama, usia = 21, pendapatan = 6500000, \n",
        "                 insentif_lembur = 100000):\n",
        "        super().__init__(nama, usia, pendapatan, insentif_lembur) \n",
        "\n",
        "# Definisikan class IlmuwanData sebagai child class dari class Karyawan\n",
        "class IlmuwanData(Karyawan):\n",
        "    def __init__(self, nama, usia = 25, pendapatan = 12000000, \n",
        "                 insentif_lembur = 150000):\n",
        "        super().__init__(nama, usia, pendapatan, insentif_lembur) \n",
        "    def tambahan_proyek(self, nilai_proyek):\n",
        "        self.pendapatan_tambahan += 0.1 * nilai_proyek \n",
        "\n",
        "# Definisikan class PembersihData sebagai child class dari class TenagaLepas\n",
        "class PembersihData(TenagaLepas):\n",
        "    def __init__(self, nama, usia, pendapatan = 4000000): \n",
        "        super().__init__(nama, usia, pendapatan)\n",
        "\n",
        "# Definisikan class DokumenterTeknis sebagai child class dari class TenagaLepas\n",
        "class DokumenterTeknis(TenagaLepas):\n",
        "    def __init__(self, nama, usia, pendapatan = 2500000): \n",
        "        super().__init__(nama, usia, pendapatan)\n",
        "        def tambahan_proyek(self, jumlah_tambahan): \n",
        "            return\n",
        "\n",
        "# Definisikan class Perusahaan \n",
        "class Perusahaan:\n",
        "    def __init__(self, nama, alamat, nomor_telepon): \n",
        "        self.nama = nama\n",
        "        self.alamat = alamat \n",
        "        self.nomor_telepon = nomor_telepon \n",
        "        self.list_karyawan = []\n",
        "    def aktifkan_karyawan(self, karyawan): \n",
        "        self.list_karyawan.append(karyawan)\n",
        "    def nonaktifkan_karyawan(self, nama_karyawan): \n",
        "        karyawan_nonaktif = None\n",
        "        for karyawan in self.list_karyawan:\n",
        "            if karyawan.nama == nama_karyawan: \n",
        "                karyawan_nonaktif = karyawan \n",
        "                break\n",
        "        if karyawan_nonaktif is not None: \n",
        "            self.list_karyawan.remove(karyawan_nonaktif)\n",
        "    def total_pengeluaran(self): \n",
        "        pengeluaran = 0\n",
        "        for karyawan in self.list_karyawan:\n",
        "            pengeluaran += karyawan.total_pendapatan() \n",
        "        return pengeluaran\n",
        "    def cari_karyawan(self, nama_karyawan): \n",
        "        for karyawan in self.list_karyawan:\n",
        "            if karyawan.nama == nama_karyawan: \n",
        "                return karyawan\n",
        "        return None\n",
        "\n",
        "# Create object karyawan sesuai dengan tugasnya masing-masing\n",
        "# seperti yang dinyatakan dalam tabel.\n",
        "ani = PembersihData('Ani', 25)\n",
        "budi = DokumenterTeknis('Budi', 18)\n",
        "cici = IlmuwanData('Cici')\n",
        "didi = IlmuwanData('Didi', 32, 20000000)\n",
        "efi = AnalisData('Efi')\n",
        "febi = AnalisData('Febi', 28, 12000000)\n",
        "\n",
        "# Create object perusahaan\n",
        "perusahaan = Perusahaan('ABC', 'Jl. Jendral Sudirman, Blok 11', '(021) 95812XX')\n",
        "\n",
        "# Aktifkan setiap karyawan yang telah didefinisikan\n",
        "perusahaan.aktifkan_karyawan(ani)\n",
        "perusahaan.aktifkan_karyawan(budi)\n",
        "perusahaan.aktifkan_karyawan(cici)\n",
        "perusahaan.aktifkan_karyawan(didi)\n",
        "perusahaan.aktifkan_karyawan(efi)\n",
        "perusahaan.aktifkan_karyawan(febi)\n",
        "\n",
        "# Cetak keseluruhan total pengeluaran perusahaan\n",
        "print(perusahaan.total_pengeluaran())"
      ],
      "execution_count": null,
      "outputs": [
        {
          "output_type": "stream",
          "text": [
            "57000000\n"
          ],
          "name": "stdout"
        }
      ]
    }
  ]
}