{
  "nbformat": 4,
  "nbformat_minor": 0,
  "metadata": {
    "colab": {
      "name": "Machine learning",
      "provenance": []
    },
    "kernelspec": {
      "name": "python3",
      "display_name": "Python 3"
    }
  },
  "cells": [
    {
      "cell_type": "code",
      "metadata": {
        "id": "cfbcaprKcBzx"
      },
      "source": [
        "import numpy as np\n",
        "import pandas as pd\n",
        "from scipy import stats\n",
        "from sklearn.metrics import r2_score\n",
        "import matplotlib.pyplot as plt\n"
      ],
      "execution_count": null,
      "outputs": []
    },
    {
      "cell_type": "code",
      "metadata": {
        "id": "WZ3gf9fRcHIl",
        "outputId": "43f73d3d-d68a-4efe-9ed3-07eda7f69509",
        "colab": {
          "base_uri": "https://localhost:8080/",
          "height": 34
        }
      },
      "source": [
        "speed = [99,86,87,88,111,86,103,87,94,78,77,85,86]\n",
        "\n",
        "x = np.mean(speed)\n",
        "y = np.median(speed)\n",
        "\n",
        "\n",
        "print(y)"
      ],
      "execution_count": null,
      "outputs": [
        {
          "output_type": "stream",
          "text": [
            "87.0\n"
          ],
          "name": "stdout"
        }
      ]
    },
    {
      "cell_type": "code",
      "metadata": {
        "id": "FaG9yX_uoBxt",
        "outputId": "20ab366c-5b25-4b54-a004-f8af53c0fce8",
        "colab": {
          "base_uri": "https://localhost:8080/",
          "height": 34
        }
      },
      "source": [
        "speed = [99,86,87,88,111,86,103,87,94,78,77,85,86]\n",
        "\n",
        "x = np.median(speed)\n",
        "\n",
        "print(x)"
      ],
      "execution_count": null,
      "outputs": [
        {
          "output_type": "stream",
          "text": [
            "87.0\n"
          ],
          "name": "stdout"
        }
      ]
    },
    {
      "cell_type": "code",
      "metadata": {
        "id": "2bI6D2akonH0",
        "outputId": "8dcc7b80-7216-4b59-9d4c-1833d0e7ffbc",
        "colab": {
          "base_uri": "https://localhost:8080/",
          "height": 34
        }
      },
      "source": [
        "speed = [99,86,87,88,111,86,103,87,94,78,77,85,86]\n",
        "\n",
        "x = stats.mode(speed)\n",
        "\n",
        "print(x)"
      ],
      "execution_count": null,
      "outputs": [
        {
          "output_type": "stream",
          "text": [
            "ModeResult(mode=array([86]), count=array([3]))\n"
          ],
          "name": "stdout"
        }
      ]
    },
    {
      "cell_type": "code",
      "metadata": {
        "id": "29Y98UYqqbqV",
        "outputId": "e611269d-a7f7-449d-a22e-eb7ab797e4f4",
        "colab": {
          "base_uri": "https://localhost:8080/",
          "height": 34
        }
      },
      "source": [
        "# belajar menghitung rata-rata kecepatan dengan machine learning\n",
        "speed = [85, 87, 88, 86, 87, 60, 86]\n",
        "x = np.std(speed)\n",
        "print(x)"
      ],
      "execution_count": null,
      "outputs": [
        {
          "output_type": "stream",
          "text": [
            "9.315337363943488\n"
          ],
          "name": "stdout"
        }
      ]
    },
    {
      "cell_type": "code",
      "metadata": {
        "id": "AsT_975erD8M",
        "outputId": "e8dfb7ea-7ab5-41be-a92e-79cd6e14d4a2",
        "colab": {
          "base_uri": "https://localhost:8080/",
          "height": 34
        }
      },
      "source": [
        "# contoh lagi\n",
        "speed = [120, 111, 138, 59, 90, 97, 45]\n",
        "x = np.std(speed)\n",
        "print(x)\n"
      ],
      "execution_count": null,
      "outputs": [
        {
          "output_type": "stream",
          "text": [
            "30.592782929098473\n"
          ],
          "name": "stdout"
        }
      ]
    },
    {
      "cell_type": "code",
      "metadata": {
        "id": "kV_o_fmct7Gs",
        "outputId": "48ac3c80-772a-4d31-d39f-0141a45b4f80",
        "colab": {
          "base_uri": "https://localhost:8080/",
          "height": 34
        }
      },
      "source": [
        "ages = [5,31,43,48,50,41,7,11,15,39,80,82,32,2,8,6,25,36,27,61,31]\n",
        "\n",
        "x = np.percentile(ages, 90)\n",
        "\n",
        "print(x)"
      ],
      "execution_count": null,
      "outputs": [
        {
          "output_type": "stream",
          "text": [
            "61.0\n"
          ],
          "name": "stdout"
        }
      ]
    },
    {
      "cell_type": "code",
      "metadata": {
        "id": "6I57tYBGtbbR",
        "outputId": "e0eae587-ce19-4d28-9cc5-129268204252",
        "colab": {
          "base_uri": "https://localhost:8080/",
          "height": 34
        }
      },
      "source": [
        "ages = [5,31,43,48,50,41,7,11,15,39,80,82,32,2,8,6,25,36,27,61,31]\n",
        "\n",
        "x = np.percentile(ages, 75)\n",
        "\n",
        "print(x)"
      ],
      "execution_count": null,
      "outputs": [
        {
          "output_type": "stream",
          "text": [
            "43.0\n"
          ],
          "name": "stdout"
        }
      ]
    },
    {
      "cell_type": "code",
      "metadata": {
        "id": "TEdHPu6suAlK",
        "outputId": "5990d0b8-6817-4462-d593-0ae967af6d6b",
        "colab": {
          "base_uri": "https://localhost:8080/",
          "height": 1000
        }
      },
      "source": [
        "# belajar distribusi data\n",
        "x = np.random.uniform(0.0, 5.0, 250)\n",
        "\n",
        "print(x)"
      ],
      "execution_count": null,
      "outputs": [
        {
          "output_type": "stream",
          "text": [
            "[3.52641997e+00 1.91248899e+00 1.71979476e+00 3.90218498e+00\n",
            " 8.29943309e-01 2.60091925e+00 4.50042813e+00 3.39783500e+00\n",
            " 2.08450025e+00 5.97987319e-01 1.51270459e+00 3.83337082e+00\n",
            " 4.34123440e+00 4.15131340e+00 4.76256264e+00 2.70877852e+00\n",
            " 1.61361966e+00 3.03924900e+00 3.42161071e+00 3.80140094e+00\n",
            " 3.71987199e+00 3.43849452e+00 1.69299961e+00 7.65514470e-01\n",
            " 4.66108045e+00 6.01254474e-01 3.60532042e-02 2.19194309e+00\n",
            " 5.51364187e-01 4.60821670e+00 1.69461176e+00 1.11954540e+00\n",
            " 4.56430927e+00 2.99190116e+00 4.48857477e+00 3.15524692e+00\n",
            " 2.43552731e+00 1.72207111e+00 2.82604877e+00 1.54550549e-01\n",
            " 2.86020326e+00 1.46066250e+00 4.87131439e+00 3.18156815e+00\n",
            " 1.04230932e+00 4.38921262e+00 1.36536169e+00 1.59108251e+00\n",
            " 3.88601208e-01 3.62202183e+00 2.33322781e+00 8.99520229e-01\n",
            " 2.95885526e-01 1.81504640e-01 1.53039705e+00 4.04627713e+00\n",
            " 2.87542332e+00 4.06560314e+00 2.48132469e+00 1.24611158e+00\n",
            " 3.73845575e+00 4.44427700e+00 2.03308477e+00 1.10227982e+00\n",
            " 3.08578179e-01 3.38462546e+00 1.03679611e-01 7.53766216e-01\n",
            " 4.63341967e+00 3.91683619e+00 2.09842609e+00 3.08083494e+00\n",
            " 3.64190052e+00 4.40780697e+00 6.50398202e-01 1.48246983e+00\n",
            " 2.49041416e+00 3.48337174e+00 3.07784151e+00 1.77653545e+00\n",
            " 9.66218482e-01 2.35173879e+00 1.16582858e+00 2.33785765e+00\n",
            " 2.28209875e+00 1.46966080e+00 4.41007310e+00 4.64019441e+00\n",
            " 1.45121823e+00 2.64200018e+00 1.18341987e-01 4.62594735e-01\n",
            " 3.23637965e+00 2.96030186e+00 1.02549569e+00 4.98078977e-01\n",
            " 1.04655189e+00 9.20426989e-02 7.62688744e-01 3.36304961e-03\n",
            " 6.79710220e-01 4.11478148e+00 1.71072934e+00 4.84100724e+00\n",
            " 1.23854059e+00 1.80825424e+00 3.54242995e+00 3.62812061e+00\n",
            " 1.73984711e+00 3.03861275e+00 4.14544498e+00 3.16504104e+00\n",
            " 3.38190539e+00 2.30130287e+00 4.59159187e+00 2.02623392e+00\n",
            " 2.16322642e+00 2.78796540e+00 1.97613487e+00 3.04431915e+00\n",
            " 9.62088055e-01 4.75211694e+00 4.28796335e+00 4.08425273e-01\n",
            " 1.38163971e+00 2.92734797e+00 2.68064683e+00 1.08194480e+00\n",
            " 4.99611582e+00 3.80213044e+00 4.64997269e+00 4.57373756e+00\n",
            " 4.19495680e+00 4.01077633e+00 2.55982035e+00 4.54514904e+00\n",
            " 2.97183419e+00 1.41436187e+00 4.50071283e+00 1.90195564e+00\n",
            " 2.24250158e+00 2.35811057e+00 2.52872683e+00 3.22040696e+00\n",
            " 1.38973207e+00 2.58577601e-01 1.15855292e+00 4.88972554e+00\n",
            " 3.14400700e+00 3.28825595e+00 4.89228229e+00 5.97390998e-01\n",
            " 4.97271409e+00 2.41706339e+00 2.94968699e+00 1.95083029e+00\n",
            " 2.22995167e+00 3.28686035e+00 4.87732503e+00 3.51530323e+00\n",
            " 4.40979422e+00 1.31094145e-01 6.17641231e-01 4.96465003e-01\n",
            " 1.74140466e+00 1.62147038e+00 4.95301238e+00 2.45840655e-01\n",
            " 2.63043943e+00 3.61396230e-01 9.49277989e-01 3.12800997e+00\n",
            " 3.68236754e+00 2.74278608e+00 9.52999717e-01 1.39649009e+00\n",
            " 4.27494933e+00 2.15547928e+00 4.83320383e+00 3.70165314e+00\n",
            " 3.91423127e+00 4.38625395e-01 2.23347791e+00 2.38828076e+00\n",
            " 3.07447339e+00 4.12540112e+00 4.87810493e+00 2.20398539e-01\n",
            " 2.54642616e+00 2.77974874e-01 9.44499774e-01 1.11022921e+00\n",
            " 5.50265145e-01 2.39872552e+00 4.21109753e+00 4.46796586e+00\n",
            " 1.50862879e+00 7.80037298e-01 3.37902893e+00 2.83322779e+00\n",
            " 4.93226725e+00 2.84044262e+00 1.09891163e+00 4.52537211e+00\n",
            " 4.58830521e+00 3.59425782e+00 1.09447331e+00 3.79141642e+00\n",
            " 1.47820879e+00 3.17477085e+00 3.88518056e+00 3.62505463e+00\n",
            " 2.16226981e+00 4.31478175e+00 2.56177206e+00 2.75164280e+00\n",
            " 2.44812887e+00 2.48922698e+00 3.35859539e+00 2.54285019e-01\n",
            " 2.39760907e-02 3.36750198e+00 2.98625852e-01 2.92013693e+00\n",
            " 3.14505972e+00 1.34049575e+00 1.93063736e-02 3.32790702e+00\n",
            " 2.34702929e-01 5.37098409e-01 4.68473738e+00 4.02484721e+00\n",
            " 1.65516131e+00 2.87317478e-01 2.87582893e+00 2.93528026e+00\n",
            " 4.59574539e+00 1.35462909e+00 3.92896384e+00 8.70285065e-01\n",
            " 4.03493264e+00 6.53699141e-01 2.17483391e+00 4.49935777e+00\n",
            " 1.34884276e+00 2.55580199e+00 4.64409535e+00 4.17138589e+00\n",
            " 1.22693675e+00 1.62538808e+00]\n"
          ],
          "name": "stdout"
        }
      ]
    },
    {
      "cell_type": "code",
      "metadata": {
        "id": "jn2duieVwXS2",
        "outputId": "76407a24-188d-4a56-d760-446a7fa20842",
        "colab": {
          "base_uri": "https://localhost:8080/",
          "height": 265
        }
      },
      "source": [
        "x = np.random.uniform(0.0, 5.0, 250)\n",
        "plt.hist(x, 5)\n",
        "plt.show()"
      ],
      "execution_count": null,
      "outputs": [
        {
          "output_type": "display_data",
          "data": {
            "image/png": "[encoded data removed]",
            "text/plain": [
              "<Figure size 432x288 with 1 Axes>"
            ]
          },
          "metadata": {
            "tags": [],
            "needs_background": "light"
          }
        }
      ]
    },
    {
      "cell_type": "code",
      "metadata": {
        "id": "MRPFzDNuw4uV",
        "outputId": "0c325947-2519-4c95-c65a-49c4d9bf4011",
        "colab": {
          "base_uri": "https://localhost:8080/",
          "height": 265
        }
      },
      "source": [
        "x = np.random.uniform(0.0, 5.0, 100000)\n",
        "plt.hist(x, 100)\n",
        "plt.show()"
      ],
      "execution_count": null,
      "outputs": [
        {
          "output_type": "display_data",
          "data": {
            "image/png": "[encoded data removed]",
            "text/plain": [
              "<Figure size 432x288 with 1 Axes>"
            ]
          },
          "metadata": {
            "tags": [],
            "needs_background": "light"
          }
        }
      ]
    },
    {
      "cell_type": "code",
      "metadata": {
        "id": "k9FHqi2NRr1V",
        "outputId": "1773714d-440f-4449-8e15-7cfc22fbe344",
        "colab": {
          "base_uri": "https://localhost:8080/",
          "height": 267
        }
      },
      "source": [
        "x = np.random.normal(5.0, 1.0, 100000)\n",
        "plt.hist(x, 100) # angka 50 ini berapa jumlah BAR yang kita inginkan dan tampilkan\n",
        "plt.show()"
      ],
      "execution_count": null,
      "outputs": [
        {
          "output_type": "display_data",
          "data": {
            "image/png": "[encoded data removed]",
            "text/plain": [
              "<Figure size 432x288 with 1 Axes>"
            ]
          },
          "metadata": {
            "tags": [],
            "needs_background": "light"
          }
        }
      ]
    },
    {
      "cell_type": "code",
      "metadata": {
        "id": "j69C7Y-3TAaE",
        "outputId": "1b5affa7-2f37-4244-85c6-0cc9e6d00ebb",
        "colab": {
          "base_uri": "https://localhost:8080/",
          "height": 265
        }
      },
      "source": [
        "x = [5,7,8,7,2,17,2,9,4,11,12,9,6]\n",
        "y = [99,86,87,88,111,86,103,87,94,78,77,85,86]\n",
        "\n",
        "plt.scatter(x, y)\n",
        "plt.show()"
      ],
      "execution_count": null,
      "outputs": [
        {
          "output_type": "display_data",
          "data": {
            "image/png": "[encoded data removed]",
            "text/plain": [
              "<Figure size 432x288 with 1 Axes>"
            ]
          },
          "metadata": {
            "tags": [],
            "needs_background": "light"
          }
        }
      ]
    },
    {
      "cell_type": "code",
      "metadata": {
        "id": "9I7hew75U5ve",
        "outputId": "0c11ac37-072f-4211-fd66-9a515c0b4c2a",
        "colab": {
          "base_uri": "https://localhost:8080/",
          "height": 265
        }
      },
      "source": [
        "x = np.random.normal(5.0, 1.0, 1000)\n",
        "y = np.random.normal(10.0, 2.0, 1000)\n",
        "\n",
        "plt.scatter(x, y)\n",
        "plt.show()"
      ],
      "execution_count": null,
      "outputs": [
        {
          "output_type": "display_data",
          "data": {
            "image/png": "[encoded data removed]",
            "text/plain": [
              "<Figure size 432x288 with 1 Axes>"
            ]
          },
          "metadata": {
            "tags": [],
            "needs_background": "light"
          }
        }
      ]
    },
    {
      "cell_type": "code",
      "metadata": {
        "id": "TiBh7ae_WWqA",
        "outputId": "4b49527c-1cc3-46cf-a710-04809fafe6ac",
        "colab": {
          "base_uri": "https://localhost:8080/",
          "height": 297
        }
      },
      "source": [
        "np.random.seed(19680801)\n",
        "\n",
        "# example data\n",
        "mu = 100  # mean of distribution\n",
        "sigma = 15  # standard deviation of distribution\n",
        "x = mu + sigma * np.random.randn(437)\n",
        "\n",
        "num_bins = 50\n",
        "\n",
        "fig, ax = plt.subplots()\n",
        "\n",
        "# the histogram of the data\n",
        "n, bins, patches = ax.hist(x, num_bins, density=1)\n",
        "\n",
        "# add a 'best fit' line\n",
        "y = ((1 / (np.sqrt(2 * np.pi) * sigma)) *\n",
        "     np.exp(-0.5 * (1 / sigma * (bins - mu))**2))\n",
        "ax.plot(bins, y, '--')\n",
        "ax.set_xlabel('Smarts')\n",
        "ax.set_ylabel('Probability density')\n",
        "ax.set_title(r'Histogram of IQ: $\\mu=100$, $\\sigma=15$')\n",
        "\n",
        "# Tweak spacing to prevent clipping of ylabel\n",
        "fig.tight_layout()\n",
        "plt.show()"
      ],
      "execution_count": null,
      "outputs": [
        {
          "output_type": "display_data",
          "data": {
            "image/png": "[encoded data removed]",
            "text/plain": [
              "<Figure size 432x288 with 1 Axes>"
            ]
          },
          "metadata": {
            "tags": [],
            "needs_background": "light"
          }
        }
      ]
    },
    {
      "cell_type": "markdown",
      "metadata": {
        "id": "5-hViIuxZf19"
      },
      "source": [
        ""
      ]
    },
    {
      "cell_type": "code",
      "metadata": {
        "id": "ByrpVCi9Zj-5"
      },
      "source": [
        ""
      ],
      "execution_count": null,
      "outputs": []
    },
    {
      "cell_type": "markdown",
      "metadata": {
        "id": "y6RH37yrZpab"
      },
      "source": [
        "#belajar Linear Regresion"
      ]
    },
    {
      "cell_type": "code",
      "metadata": {
        "id": "zb8njpShWyIt",
        "outputId": "06ed876d-c1b3-4536-fe81-c956fac2d602",
        "colab": {
          "base_uri": "https://localhost:8080/",
          "height": 265
        }
      },
      "source": [
        "x = [5,7,8,7,2,17,2,9,4,11,12,9,6]\n",
        "y = [99,86,87,88,111,86,103,87,94,78,77,85,86]\n",
        "\n",
        "plt.scatter(x, y)\n",
        "plt.show()"
      ],
      "execution_count": null,
      "outputs": [
        {
          "output_type": "display_data",
          "data": {
            "image/png": "[encoded data removed]",
            "text/plain": [
              "<Figure size 432x288 with 1 Axes>"
            ]
          },
          "metadata": {
            "tags": [],
            "needs_background": "light"
          }
        }
      ]
    },
    {
      "cell_type": "markdown",
      "metadata": {
        "id": "0_K1pj2OaICC"
      },
      "source": [
        ""
      ]
    },
    {
      "cell_type": "code",
      "metadata": {
        "id": "BfvWt6EIaKzu"
      },
      "source": [
        "#Linear"
      ],
      "execution_count": null,
      "outputs": []
    },
    {
      "cell_type": "code",
      "metadata": {
        "id": "k571OCsgZ0LL",
        "outputId": "49436e36-a974-46b7-c640-534e3406e6f0",
        "colab": {
          "base_uri": "https://localhost:8080/",
          "height": 265
        }
      },
      "source": [
        "x = [5,7,8,7,2,17,2,9,4,11,12,9,6]\n",
        "y = [99,86,87,88,111,86,103,87,94,78,77,85,86]\n",
        "\n",
        "slope, intercept, r, p, std_err = stats.linregress(x,y)\n",
        "def myfunc(x):\n",
        "  return slope * x + intercept\n",
        "\n",
        "mymodel = list(map(myfunc, x))\n",
        "plt.scatter(x, y)\n",
        "plt.plot(x, mymodel)\n",
        "plt.show()"
      ],
      "execution_count": null,
      "outputs": [
        {
          "output_type": "display_data",
          "data": {
            "image/png": "[encoded data removed]",
            "text/plain": [
              "<Figure size 432x288 with 1 Axes>"
            ]
          },
          "metadata": {
            "tags": [],
            "needs_background": "light"
          }
        }
      ]
    },
    {
      "cell_type": "code",
      "metadata": {
        "id": "CkK3EASXby0U",
        "outputId": "7fc181c7-a221-4f85-d1ea-37f6dffe114c",
        "colab": {
          "base_uri": "https://localhost:8080/",
          "height": 34
        }
      },
      "source": [
        "x = [5,7,8,7,2,17,2,9,4,11,12,9,6]\n",
        "y = [99,86,87,88,111,86,103,87,94,78,77,85,86]\n",
        "\n",
        "slope, intercept, r, p, std_err = stats.linregress(x, y)\n",
        "print(r)"
      ],
      "execution_count": null,
      "outputs": [
        {
          "output_type": "stream",
          "text": [
            "-0.758591524376155\n"
          ],
          "name": "stdout"
        }
      ]
    },
    {
      "cell_type": "code",
      "metadata": {
        "id": "QHqtu--ZcMAq",
        "outputId": "8109c4b1-aecc-418e-b818-97b45173407f",
        "colab": {
          "base_uri": "https://localhost:8080/",
          "height": 34
        }
      },
      "source": [
        "x = [5,7,8,7,2,17,2,9,4,11,12,9,6]\n",
        "y = [99,86,87,88,111,86,103,87,94,78,77,85,86]\n",
        "\n",
        "slope, intercept, r, p, std_err = stats.linregress(x, y)\n",
        "def myfunc(x):\n",
        "  return slope * x + intercept\n",
        "\n",
        "speed = myfunc(10)\n",
        "print(speed)"
      ],
      "execution_count": null,
      "outputs": [
        {
          "output_type": "stream",
          "text": [
            "85.59308314937454\n"
          ],
          "name": "stdout"
        }
      ]
    },
    {
      "cell_type": "code",
      "metadata": {
        "id": "1MxwX5hmdTby",
        "outputId": "b6110f1b-46f5-4b7a-8145-83a26b1c450d",
        "colab": {
          "base_uri": "https://localhost:8080/",
          "height": 265
        }
      },
      "source": [
        "x = [89,43,36,36,95,10,66,34,38,20,26,29,48,64,6,5,36,66,72,40]\n",
        "y = [21,46,3,35,67,95,53,72,58,10,26,34,90,33,38,20,56,2,47,15]\n",
        "\n",
        "slope, intercept, r, p, std_err = stats.linregress(x, y)\n",
        "\n",
        "def myfunc(x):\n",
        "  return slope * x + intercept\n",
        "\n",
        "mymodel = list(map(myfunc, x))\n",
        "\n",
        "plt.scatter(x, y)\n",
        "plt.plot(x, mymodel)\n",
        "plt.show()"
      ],
      "execution_count": null,
      "outputs": [
        {
          "output_type": "display_data",
          "data": {
            "image/png": "[encoded data removed]",
            "text/plain": [
              "<Figure size 432x288 with 1 Axes>"
            ]
          },
          "metadata": {
            "tags": [],
            "needs_background": "light"
          }
        }
      ]
    },
    {
      "cell_type": "markdown",
      "metadata": {
        "id": "ce7wAcOyjZJk"
      },
      "source": [
        "# Regresi Polinomial"
      ]
    },
    {
      "cell_type": "code",
      "metadata": {
        "id": "Fv5dMe8ljQuQ",
        "outputId": "76355ec0-fa9a-4e15-9e5f-99e0a727d77a",
        "colab": {
          "base_uri": "https://localhost:8080/",
          "height": 265
        }
      },
      "source": [
        "x = [1,2,3,5,6,7,8,9,10,12,13,14,15,16,18,19,21,22]\n",
        "y = [100,90,80,60,60,55,60,65,70,70,75,76,78,79,90,99,99,100]\n",
        "\n",
        "plt.scatter(x, y)\n",
        "plt.show()"
      ],
      "execution_count": null,
      "outputs": [
        {
          "output_type": "display_data",
          "data": {
            "image/png": "[encoded data removed]",
            "text/plain": [
              "<Figure size 432x288 with 1 Axes>"
            ]
          },
          "metadata": {
            "tags": [],
            "needs_background": "light"
          }
        }
      ]
    },
    {
      "cell_type": "code",
      "metadata": {
        "id": "Glx3_PGejz5W",
        "outputId": "c58b68dc-94d7-4d17-cfa6-4ddb813f3fb2",
        "colab": {
          "base_uri": "https://localhost:8080/",
          "height": 265
        }
      },
      "source": [
        "x = [1,2,3,5,6,7,8,9,10,12,13,14,15,16,18,19,21,22]\n",
        "y = [100,90,80,60,60,55,60,65,70,70,75,76,78,79,90,99,99,100]\n",
        "\n",
        "mymodel = np.poly1d(np.polyfit(x, y, 3))\n",
        "myline = np.linspace(1, 22, 100)\n",
        "\n",
        "plt.scatter(x, y)\n",
        "plt.plot(myline, mymodel(myline))\n",
        "plt.show()"
      ],
      "execution_count": null,
      "outputs": [
        {
          "output_type": "display_data",
          "data": {
            "image/png": "[encoded data removed]",
            "text/plain": [
              "<Figure size 432x288 with 1 Axes>"
            ]
          },
          "metadata": {
            "tags": [],
            "needs_background": "light"
          }
        }
      ]
    },
    {
      "cell_type": "code",
      "metadata": {
        "id": "_o48qccGmqYS",
        "outputId": "e393e110-7258-443d-be60-692b24c743fd",
        "colab": {
          "base_uri": "https://localhost:8080/",
          "height": 34
        }
      },
      "source": [
        "x = [1,2,3,5,6,7,8,9,10,12,13,14,15,16,18,19,21,22]\n",
        "y = [100,90,80,60,60,55,60,65,70,70,75,76,78,79,90,99,99,100]\n",
        "\n",
        "data = np.poly1d(np.polyfit(x, y, 3))\n",
        "speed = data(17)\n",
        "print(speed)"
      ],
      "execution_count": null,
      "outputs": [
        {
          "output_type": "stream",
          "text": [
            "88.87331269697991\n"
          ],
          "name": "stdout"
        }
      ]
    },
    {
      "cell_type": "code",
      "metadata": {
        "id": "9v1P8RXjnp_X",
        "outputId": "f1780762-1216-402f-8a67-6a19143feadc",
        "colab": {
          "base_uri": "https://localhost:8080/",
          "height": 265
        }
      },
      "source": [
        "x = [89,43,36,36,95,10,66,34,38,20,26,29,48,64,6,5,36,66,72,40]\n",
        "y = [21,46,3,35,67,95,53,72,58,10,26,34,90,33,38,20,56,2,47,15]\n",
        "\n",
        "mymodel = np.poly1d(np.polyfit(x, y, 3))\n",
        "\n",
        "myline = np.linspace(2, 95, 100)\n",
        "\n",
        "plt.scatter(x, y)\n",
        "plt.plot(myline, mymodel(myline))\n",
        "plt.show()"
      ],
      "execution_count": null,
      "outputs": [
        {
          "output_type": "display_data",
          "data": {
            "image/png": "[encoded data removed]",
            "text/plain": [
              "<Figure size 432x288 with 1 Axes>"
            ]
          },
          "metadata": {
            "tags": [],
            "needs_background": "light"
          }
        }
      ]
    }
  ]
}